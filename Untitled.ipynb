{
 "cells": [
  {
   "cell_type": "markdown",
   "metadata": {},
   "source": [
    "[Open In Colab](https://colab.research.google.com/github/joelbenjohn/pyASA/blob/master/pyASA.ipynb)\n"
   ]
  },
  {
   "cell_type": "code",
   "execution_count": null,
   "metadata": {},
   "outputs": [],
   "source": [
    "!rm -rf /content/pyCUFSM\n",
    "!git clone https://github.com/joelbenjohn/pyASA"
   ]
  },
  {
   "cell_type": "code",
   "execution_count": 1,
   "metadata": {
    "scrolled": false
   },
   "outputs": [
    {
     "data": {
      "application/vnd.jupyter.widget-view+json": {
       "model_id": "bba2f01874994650a82b305109258a97",
       "version_major": 2,
       "version_minor": 0
      },
      "text/plain": [
       "VBox(children=(VBox(children=(HBox(children=(Label(value='nsd', layout=Layout(width='55px')), Label(value='ndf…"
      ]
     },
     "metadata": {},
     "output_type": "display_data"
    }
   ],
   "source": [
    "import MainPrePro\n",
    "x = MainPrePro.MainPrePro()\n",
    "page = x.run(analysis = 'truss', dims = 2)\n",
    "display(page)"
   ]
  },
  {
   "cell_type": "code",
   "execution_count": 3,
   "metadata": {},
   "outputs": [
    {
     "name": "stdout",
     "output_type": "stream",
     "text": [
      " *******             Reading Data             *******\n",
      " *******         Numbering Equations          *******\n",
      " *******  Forming Element Stiffness Matrices  *******\n",
      " *******    Assembling Global Force Vector    *******\n",
      " *******  Assembling Global Stiffness Matrix  *******\n",
      " *******   Solving for Nodal Displacements    *******\n",
      " *******                                      *******\n",
      " *******     STRUCTURAL ANALYSIS COMPLETE     *******\n",
      " *******                                      *******\n",
      " *******        Begin Post-Processing         *******\n",
      " *******        Compute Element Forces        *******\n",
      " *******          Assemble Reactions          *******\n",
      "Nodal Displacements\n",
      " node          d1          d2          \n",
      "    0         0.0         0.0\n",
      "\n",
      "    1         0.0         0.0\n",
      "\n",
      "    2         0.0         0.0\n",
      "\n",
      "    3    -0.61633     -5.1019\n",
      "\n",
      " \n",
      "Nodal Reactions(N)\n",
      " node          R1          R2          \n",
      "    0   -1.23e+04    9.25e+03\n",
      "\n",
      "    1         0.0     6.8e+04\n",
      "\n",
      "    2    1.23e+04         0.0\n",
      "\n",
      "    3         0.0         0.0\n",
      "\n",
      " \n",
      "Element Axial force(N)/stress(MPa)/strain\n",
      " elem       force      stress      strain\n",
      "    0   -1.23e+04       -30.8      -0.154\n",
      "\n",
      "    1    1.54e+04    1.03e+02       0.514\n",
      "\n",
      "    2     6.8e+04     3.4e+02         1.7\n",
      "\n",
      " \n"
     ]
    }
   ],
   "source": [
    "from maintruss import maintruss\n",
    "maintruss()"
   ]
  }
 ],
 "metadata": {
  "kernelspec": {
   "display_name": "Python 3",
   "language": "python",
   "name": "python3"
  },
  "language_info": {
   "codemirror_mode": {
    "name": "ipython",
    "version": 3
   },
   "file_extension": ".py",
   "mimetype": "text/x-python",
   "name": "python",
   "nbconvert_exporter": "python",
   "pygments_lexer": "ipython3",
   "version": "3.7.4"
  }
 },
 "nbformat": 4,
 "nbformat_minor": 2
}
