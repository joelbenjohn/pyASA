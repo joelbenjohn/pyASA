{
 "cells": [
  {
   "cell_type": "markdown",
   "metadata": {},
   "source": [
    "[Open In Colab](https://colab.research.google.com/github/joelbenjohn/pyASA/blob/master/pyASA.ipynb)"
   ]
  },
  {
   "cell_type": "code",
   "execution_count": null,
   "metadata": {},
   "outputs": [],
   "source": [
    "!rm -rf /content/pyCUFSM\n",
    "!git clone https://github.com/joelbenjohn/pyASA\n",
    "import sys\n",
    "sys.path.insert(1, '/content/pyASA')"
   ]
  },
  {
   "cell_type": "code",
   "execution_count": 4,
   "metadata": {
    "scrolled": false
   },
   "outputs": [
    {
     "data": {
      "application/vnd.jupyter.widget-view+json": {
       "model_id": "81c9018b09fa4eb9a98f3f8543f905db",
       "version_major": 2,
       "version_minor": 0
      },
      "text/plain": [
       "VBox(children=(VBox(children=(HBox(children=(Label(value='nsd', layout=Layout(width='55px')), Label(value='ndf…"
      ]
     },
     "metadata": {},
     "output_type": "display_data"
    }
   ],
   "source": [
    "import MainPrePro\n",
    "x = MainPrePro.MainPrePro()\n",
    "page = x.run(analysis = 'truss', dims = 2)\n",
    "display(page)"
   ]
  },
  {
   "cell_type": "code",
   "execution_count": 6,
   "metadata": {},
   "outputs": [
    {
     "name": "stdout",
     "output_type": "stream",
     "text": [
      " *******             Reading Data             *******\n",
      " *******         Numbering Equations          *******\n",
      " *******  Forming Element Stiffness Matrices  *******\n",
      " *******    Assembling Global Force Vector    *******\n",
      " *******  Assembling Global Stiffness Matrix  *******\n",
      " *******   Solving for Nodal Displacements    *******\n",
      " *******                                      *******\n",
      " *******     STRUCTURAL ANALYSIS COMPLETE     *******\n",
      " *******                                      *******\n",
      " *******        Begin Post-Processing         *******\n",
      " *******        Compute Element Forces        *******\n",
      " *******          Assemble Reactions          *******\n",
      "Nodal Displacements\n",
      " node          d1          d2          \n",
      "    0         0.0         0.0\n",
      "\n",
      "    1         0.0         0.0\n",
      "\n",
      "    2         0.0         0.0\n",
      "\n",
      "    3     0.27233     -4.9367\n",
      "\n",
      " \n",
      "Nodal Reactions(N)\n",
      " node          R1          R2          \n",
      "    0   -1.53e+04    1.14e+04\n",
      "\n",
      "    1         0.0    6.58e+04\n",
      "\n",
      "    2   -5.45e+03         0.0\n",
      "\n",
      "    3         0.0         0.0\n",
      "\n",
      " \n",
      "Element Axial force(N)/stress(MPa)/strain\n",
      " elem       force      stress      strain\n",
      "    0    5.45e+03        13.6      0.0681\n",
      "\n",
      "    1    1.91e+04    1.27e+02       0.636\n",
      "\n",
      "    2    6.58e+04    3.29e+02        1.65\n",
      "\n",
      " \n"
     ]
    }
   ],
   "source": [
    "from maintruss import maintruss\n",
    "maintruss()"
   ]
  },
  {
   "cell_type": "code",
   "execution_count": null,
   "metadata": {},
   "outputs": [],
   "source": []
  }
 ],
 "metadata": {
  "kernelspec": {
   "display_name": "Python 3",
   "language": "python",
   "name": "python3"
  },
  "language_info": {
   "codemirror_mode": {
    "name": "ipython",
    "version": 3
   },
   "file_extension": ".py",
   "mimetype": "text/x-python",
   "name": "python",
   "nbconvert_exporter": "python",
   "pygments_lexer": "ipython3",
   "version": "3.7.4"
  }
 },
 "nbformat": 4,
 "nbformat_minor": 2
}
